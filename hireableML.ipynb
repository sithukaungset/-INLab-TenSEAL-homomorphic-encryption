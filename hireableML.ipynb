{
 "cells": [
  {
   "cell_type": "code",
   "execution_count": 10,
   "id": "0c35199d",
   "metadata": {},
   "outputs": [],
   "source": [
    "# Importing Libraries\n",
    "import pandas as pd\n",
    "import numpy as np"
   ]
  },
  {
   "cell_type": "code",
   "execution_count": 11,
   "id": "cf391b71",
   "metadata": {},
   "outputs": [],
   "source": [
    "# Importing Dataset\n",
    "dataset = pd.read_csv('hirable.csv')"
   ]
  },
  {
   "cell_type": "code",
   "execution_count": 12,
   "id": "9610317f",
   "metadata": {},
   "outputs": [],
   "source": [
    "# Cleaning up dataset\n",
    "dataset = dataset.drop([\n",
    "    \"sl_no\",\n",
    "    \"ssc_p\",\n",
    "    \"ssc_b\",\n",
    "    \"hsc_p\",\n",
    "    \"hsc_b\",\n",
    "    \"hsc_s\",\n",
    "    \"specialisation\",\n",
    "    \"salary\",\n",
    "    \"degree_t\"\n",
    "], axis=1)\n",
    "dataset = dataset.rename(columns = {'degree_p': 'bsc', 'mba_p': 'msc'})\n",
    "dataset['gender'] = dataset.gender.replace(['M', 'F'], [1, 2])\n",
    "dataset['workex'] = dataset.workex.replace(['Yes', 'No'], [1, 0])\n",
    "dataset['status'] = dataset.status.replace(['Placed', 'Not Placed'], [1, 0])"
   ]
  },
  {
   "cell_type": "code",
   "execution_count": 13,
   "id": "ad6527b9",
   "metadata": {},
   "outputs": [],
   "source": [
    "# Downscalling Method For BSc & MSc grades\n",
    "def downscale(score):\n",
    "    return score/10/2\n",
    "\n",
    "degrees = ['bsc', 'msc']\n",
    "\n",
    "for col in degrees:\n",
    "    dataset[col] = downscale(dataset[col])"
   ]
  },
  {
   "cell_type": "code",
   "execution_count": 14,
   "id": "e523eef1",
   "metadata": {},
   "outputs": [],
   "source": [
    "# Separating into dependent and independent variables\n",
    "X = dataset.drop(['status'], axis=1)\n",
    "y = dataset.status"
   ]
  },
  {
   "cell_type": "code",
   "execution_count": 15,
   "id": "eadbc56f",
   "metadata": {},
   "outputs": [],
   "source": [
    "# Splitting dataset into trainig and testing\n",
    "from sklearn.model_selection import train_test_split\n",
    "X_train, X_test, y_train, y_test = train_test_split(X, y,train_size=0.8,random_state=1)"
   ]
  },
  {
   "cell_type": "code",
   "execution_count": 16,
   "id": "bc8977f7",
   "metadata": {},
   "outputs": [
    {
     "data": {
      "text/plain": [
       "RandomForestClassifier()"
      ]
     },
     "execution_count": 16,
     "metadata": {},
     "output_type": "execute_result"
    }
   ],
   "source": [
    "# Fitting with random forest model\n",
    "from sklearn.ensemble import RandomForestClassifier\n",
    "model=RandomForestClassifier(n_estimators=100)\n",
    "model.fit(X_train,y_train)"
   ]
  },
  {
   "cell_type": "code",
   "execution_count": 17,
   "id": "153468cc",
   "metadata": {},
   "outputs": [],
   "source": [
    "# Prediction and testing\n",
    "y_pred=model.predict(X_test)\n"
   ]
  },
  {
   "cell_type": "code",
   "execution_count": 18,
   "id": "e68d701b",
   "metadata": {},
   "outputs": [
    {
     "name": "stdout",
     "output_type": "stream",
     "text": [
      "Accuracy: 0.9069767441860465\n",
      "Classification Report RF:\n",
      "               precision    recall  f1-score   support\n",
      "\n",
      "           0       0.82      0.93      0.87        15\n",
      "           1       0.96      0.89      0.93        28\n",
      "\n",
      "    accuracy                           0.91        43\n",
      "   macro avg       0.89      0.91      0.90        43\n",
      "weighted avg       0.91      0.91      0.91        43\n",
      "\n"
     ]
    }
   ],
   "source": [
    "# Report and Accuracy Score\n",
    "from sklearn import metrics\n",
    "from sklearn.metrics import classification_report\n",
    "print(\"Accuracy:\", metrics.accuracy_score(y_test, y_pred))\n",
    "print(\"Classification Report RF:\\n\",classification_report(y_test, y_pred))"
   ]
  },
  {
   "cell_type": "code",
   "execution_count": 19,
   "id": "152d6751",
   "metadata": {},
   "outputs": [
    {
     "data": {
      "text/plain": [
       "array([1])"
      ]
     },
     "execution_count": 19,
     "metadata": {},
     "output_type": "execute_result"
    }
   ],
   "source": [
    "# Model testing on new data\n",
    "sample = np.array([[0, 2.9, 1, 78.50, 3.7]])\n",
    "model.predict(sample)\n"
   ]
  },
  {
   "cell_type": "code",
   "execution_count": 20,
   "id": "5786fbf9",
   "metadata": {},
   "outputs": [],
   "source": [
    "# Saving model\n",
    "import pickle\n",
    "pickle.dump(model, open('hireable.pkl', 'wb'))\n"
   ]
  },
  {
   "cell_type": "code",
   "execution_count": 21,
   "id": "79df0de5",
   "metadata": {},
   "outputs": [
    {
     "name": "stdout",
     "output_type": "stream",
     "text": [
      "0.9069767441860465\n"
     ]
    }
   ],
   "source": [
    "# Loading model\n",
    "loaded_model = pickle.load(open('hireable.pkl','rb'))\n",
    "result = loaded_model.score(X_test, y_test)\n",
    "print(result)"
   ]
  }
 ],
 "metadata": {
  "kernelspec": {
   "display_name": "Python 3",
   "language": "python",
   "name": "python3"
  },
  "language_info": {
   "codemirror_mode": {
    "name": "ipython",
    "version": 3
   },
   "file_extension": ".py",
   "mimetype": "text/x-python",
   "name": "python",
   "nbconvert_exporter": "python",
   "pygments_lexer": "ipython3",
   "version": "3.8.10"
  }
 },
 "nbformat": 4,
 "nbformat_minor": 5
}
